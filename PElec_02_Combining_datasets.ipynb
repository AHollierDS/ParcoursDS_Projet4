{
 "cells": [
  {
   "cell_type": "markdown",
   "metadata": {
    "Collapsed": "false"
   },
   "source": [
    "# Working environmment"
   ]
  },
  {
   "cell_type": "markdown",
   "metadata": {
    "Collapsed": "false"
   },
   "source": [
    "## Librairies and options"
   ]
  },
  {
   "cell_type": "code",
   "execution_count": 1,
   "metadata": {
    "Collapsed": "false"
   },
   "outputs": [],
   "source": [
    "# Python Librairies\n",
    "import pandas as pd\n",
    "import numpy as np\n",
    "import matplotlib.pyplot as plt"
   ]
  },
  {
   "cell_type": "code",
   "execution_count": 2,
   "metadata": {
    "Collapsed": "false"
   },
   "outputs": [],
   "source": [
    "# Allowing modules autoreload\n",
    "%load_ext autoreload\n",
    "%autoreload 2\n",
    "%matplotlib inline\n",
    "\n",
    "# Pandas options\n",
    "pd.options.display.max_columns = 100"
   ]
  },
  {
   "cell_type": "markdown",
   "metadata": {
    "Collapsed": "false"
   },
   "source": [
    "## Importing data"
   ]
  },
  {
   "cell_type": "code",
   "execution_count": 3,
   "metadata": {
    "Collapsed": "false"
   },
   "outputs": [],
   "source": [
    "data_2015 = pd.read_csv(\"data-seattle/2015-building-energy-benchmarking.csv\", sep = ',')"
   ]
  },
  {
   "cell_type": "code",
   "execution_count": 4,
   "metadata": {
    "Collapsed": "false"
   },
   "outputs": [],
   "source": [
    "data_2016 = pd.read_csv(\"data-seattle/2016-building-energy-benchmarking.csv\", sep = ',')"
   ]
  },
  {
   "cell_type": "code",
   "execution_count": 5,
   "metadata": {
    "Collapsed": "false"
   },
   "outputs": [
    {
     "data": {
      "text/html": [
       "<div>\n",
       "<style scoped>\n",
       "    .dataframe tbody tr th:only-of-type {\n",
       "        vertical-align: middle;\n",
       "    }\n",
       "\n",
       "    .dataframe tbody tr th {\n",
       "        vertical-align: top;\n",
       "    }\n",
       "\n",
       "    .dataframe thead th {\n",
       "        text-align: right;\n",
       "    }\n",
       "</style>\n",
       "<table border=\"1\" class=\"dataframe\">\n",
       "  <thead>\n",
       "    <tr style=\"text-align: right;\">\n",
       "      <th></th>\n",
       "      <th>OSEBuildingID</th>\n",
       "      <th>DataYear</th>\n",
       "      <th>BuildingType</th>\n",
       "      <th>PrimaryPropertyType</th>\n",
       "      <th>PropertyName</th>\n",
       "      <th>TaxParcelIdentificationNumber</th>\n",
       "      <th>Location</th>\n",
       "      <th>CouncilDistrictCode</th>\n",
       "      <th>Neighborhood</th>\n",
       "      <th>YearBuilt</th>\n",
       "      <th>NumberofBuildings</th>\n",
       "      <th>NumberofFloors</th>\n",
       "      <th>PropertyGFATotal</th>\n",
       "      <th>PropertyGFAParking</th>\n",
       "      <th>PropertyGFABuilding(s)</th>\n",
       "      <th>ListOfAllPropertyUseTypes</th>\n",
       "      <th>LargestPropertyUseType</th>\n",
       "      <th>LargestPropertyUseTypeGFA</th>\n",
       "      <th>SecondLargestPropertyUseType</th>\n",
       "      <th>SecondLargestPropertyUseTypeGFA</th>\n",
       "      <th>ThirdLargestPropertyUseType</th>\n",
       "      <th>ThirdLargestPropertyUseTypeGFA</th>\n",
       "      <th>YearsENERGYSTARCertified</th>\n",
       "      <th>ENERGYSTARScore</th>\n",
       "      <th>SiteEUI(kBtu/sf)</th>\n",
       "      <th>SiteEUIWN(kBtu/sf)</th>\n",
       "      <th>SourceEUI(kBtu/sf)</th>\n",
       "      <th>SourceEUIWN(kBtu/sf)</th>\n",
       "      <th>SiteEnergyUse(kBtu)</th>\n",
       "      <th>SiteEnergyUseWN(kBtu)</th>\n",
       "      <th>SteamUse(kBtu)</th>\n",
       "      <th>Electricity(kWh)</th>\n",
       "      <th>Electricity(kBtu)</th>\n",
       "      <th>NaturalGas(therms)</th>\n",
       "      <th>NaturalGas(kBtu)</th>\n",
       "      <th>OtherFuelUse(kBtu)</th>\n",
       "      <th>GHGEmissions(MetricTonsCO2e)</th>\n",
       "      <th>GHGEmissionsIntensity(kgCO2e/ft2)</th>\n",
       "      <th>DefaultData</th>\n",
       "      <th>Comment</th>\n",
       "      <th>ComplianceStatus</th>\n",
       "      <th>Outlier</th>\n",
       "    </tr>\n",
       "  </thead>\n",
       "  <tbody>\n",
       "    <tr>\n",
       "      <th>2791</th>\n",
       "      <td>26846</td>\n",
       "      <td>2015</td>\n",
       "      <td>Multifamily MR (5-9)</td>\n",
       "      <td>Senior Care Community</td>\n",
       "      <td>WASHINGTON TERRACE APTS</td>\n",
       "      <td>5247802065</td>\n",
       "      <td>{'needs_recoding': False, 'longitude': '-122.3...</td>\n",
       "      <td>2</td>\n",
       "      <td>DOWNTOWN</td>\n",
       "      <td>2005</td>\n",
       "      <td>1</td>\n",
       "      <td>7.0</td>\n",
       "      <td>134974</td>\n",
       "      <td>27662</td>\n",
       "      <td>107312</td>\n",
       "      <td>Parking, Senior Care Community</td>\n",
       "      <td>Senior Care Community</td>\n",
       "      <td>107312.0</td>\n",
       "      <td>Parking</td>\n",
       "      <td>27662.0</td>\n",
       "      <td>NaN</td>\n",
       "      <td>NaN</td>\n",
       "      <td>NaN</td>\n",
       "      <td>100.0</td>\n",
       "      <td>34.7</td>\n",
       "      <td>38.0</td>\n",
       "      <td>79.4</td>\n",
       "      <td>86.7</td>\n",
       "      <td>3724014.0</td>\n",
       "      <td>4082016.0</td>\n",
       "      <td>0.0</td>\n",
       "      <td>646371.0</td>\n",
       "      <td>2205511.0</td>\n",
       "      <td>15186.0</td>\n",
       "      <td>1518595.0</td>\n",
       "      <td>0.0</td>\n",
       "      <td>96.03</td>\n",
       "      <td>0.64</td>\n",
       "      <td>No</td>\n",
       "      <td>NaN</td>\n",
       "      <td>Compliant</td>\n",
       "      <td>NaN</td>\n",
       "    </tr>\n",
       "    <tr>\n",
       "      <th>1792</th>\n",
       "      <td>23367</td>\n",
       "      <td>2015</td>\n",
       "      <td>Multifamily MR (5-9)</td>\n",
       "      <td>Mid-Rise Multifamily</td>\n",
       "      <td>SEABIRD CONDOMINIUM</td>\n",
       "      <td>7628300000</td>\n",
       "      <td>{'needs_recoding': False, 'longitude': '-122.3...</td>\n",
       "      <td>1</td>\n",
       "      <td>SOUTHWEST</td>\n",
       "      <td>1976</td>\n",
       "      <td>1</td>\n",
       "      <td>5.0</td>\n",
       "      <td>72155</td>\n",
       "      <td>0</td>\n",
       "      <td>72155</td>\n",
       "      <td>Multifamily Housing, Parking</td>\n",
       "      <td>Multifamily Housing</td>\n",
       "      <td>72155.0</td>\n",
       "      <td>Parking</td>\n",
       "      <td>18039.0</td>\n",
       "      <td>NaN</td>\n",
       "      <td>NaN</td>\n",
       "      <td>NaN</td>\n",
       "      <td>63.0</td>\n",
       "      <td>27.3</td>\n",
       "      <td>32.1</td>\n",
       "      <td>70.3</td>\n",
       "      <td>81.1</td>\n",
       "      <td>1972396.0</td>\n",
       "      <td>2313491.0</td>\n",
       "      <td>0.0</td>\n",
       "      <td>420584.0</td>\n",
       "      <td>1435090.0</td>\n",
       "      <td>5374.0</td>\n",
       "      <td>537365.0</td>\n",
       "      <td>0.0</td>\n",
       "      <td>38.54</td>\n",
       "      <td>0.45</td>\n",
       "      <td>No</td>\n",
       "      <td>NaN</td>\n",
       "      <td>Compliant</td>\n",
       "      <td>NaN</td>\n",
       "    </tr>\n",
       "    <tr>\n",
       "      <th>562</th>\n",
       "      <td>755</td>\n",
       "      <td>2015</td>\n",
       "      <td>NonResidential</td>\n",
       "      <td>Medical Office</td>\n",
       "      <td>MEDICAL DENTAL BUILDING</td>\n",
       "      <td>659000085</td>\n",
       "      <td>{'needs_recoding': False, 'longitude': '-122.3...</td>\n",
       "      <td>7</td>\n",
       "      <td>DOWNTOWN</td>\n",
       "      <td>1925</td>\n",
       "      <td>1</td>\n",
       "      <td>18.0</td>\n",
       "      <td>363934</td>\n",
       "      <td>28870</td>\n",
       "      <td>335064</td>\n",
       "      <td>Medical Office, Parking, Retail Store</td>\n",
       "      <td>Medical Office</td>\n",
       "      <td>281598.0</td>\n",
       "      <td>Parking</td>\n",
       "      <td>27597.0</td>\n",
       "      <td>Retail Store</td>\n",
       "      <td>21519.0</td>\n",
       "      <td>NaN</td>\n",
       "      <td>67.0</td>\n",
       "      <td>76.6</td>\n",
       "      <td>81.1</td>\n",
       "      <td>200.0</td>\n",
       "      <td>201.3</td>\n",
       "      <td>23230284.0</td>\n",
       "      <td>24589070.0</td>\n",
       "      <td>6352835.0</td>\n",
       "      <td>4943277.0</td>\n",
       "      <td>16867161.0</td>\n",
       "      <td>110.0</td>\n",
       "      <td>10989.0</td>\n",
       "      <td>0.0</td>\n",
       "      <td>608.53</td>\n",
       "      <td>1.47</td>\n",
       "      <td>Yes</td>\n",
       "      <td>NaN</td>\n",
       "      <td>Compliant</td>\n",
       "      <td>NaN</td>\n",
       "    </tr>\n",
       "    <tr>\n",
       "      <th>832</th>\n",
       "      <td>19919</td>\n",
       "      <td>2015</td>\n",
       "      <td>Multifamily MR (5-9)</td>\n",
       "      <td>Mid-Rise Multifamily</td>\n",
       "      <td>SIDNEY APARTMENTS</td>\n",
       "      <td>696000260</td>\n",
       "      <td>{'needs_recoding': False, 'longitude': '-122.3...</td>\n",
       "      <td>7</td>\n",
       "      <td>DOWNTOWN</td>\n",
       "      <td>2000</td>\n",
       "      <td>1</td>\n",
       "      <td>6.0</td>\n",
       "      <td>160141</td>\n",
       "      <td>40377</td>\n",
       "      <td>119764</td>\n",
       "      <td>Multifamily Housing</td>\n",
       "      <td>Multifamily Housing</td>\n",
       "      <td>132400.0</td>\n",
       "      <td>NaN</td>\n",
       "      <td>NaN</td>\n",
       "      <td>NaN</td>\n",
       "      <td>NaN</td>\n",
       "      <td>NaN</td>\n",
       "      <td>80.0</td>\n",
       "      <td>25.7</td>\n",
       "      <td>26.3</td>\n",
       "      <td>80.8</td>\n",
       "      <td>82.5</td>\n",
       "      <td>3404992.0</td>\n",
       "      <td>3476778.0</td>\n",
       "      <td>0.0</td>\n",
       "      <td>997946.0</td>\n",
       "      <td>3405134.0</td>\n",
       "      <td>0.0</td>\n",
       "      <td>0.0</td>\n",
       "      <td>0.0</td>\n",
       "      <td>23.74</td>\n",
       "      <td>0.06</td>\n",
       "      <td>No</td>\n",
       "      <td>NaN</td>\n",
       "      <td>Compliant</td>\n",
       "      <td>NaN</td>\n",
       "    </tr>\n",
       "    <tr>\n",
       "      <th>2747</th>\n",
       "      <td>26719</td>\n",
       "      <td>2015</td>\n",
       "      <td>NonResidential</td>\n",
       "      <td>Small- and Mid-Sized Office</td>\n",
       "      <td>FOSTER WHITE GALLERY/SEATTLE FIRE DEPT</td>\n",
       "      <td>5247801085</td>\n",
       "      <td>{'needs_recoding': False, 'longitude': '-122.3...</td>\n",
       "      <td>7</td>\n",
       "      <td>DOWNTOWN</td>\n",
       "      <td>1905</td>\n",
       "      <td>1</td>\n",
       "      <td>2.0</td>\n",
       "      <td>33640</td>\n",
       "      <td>0</td>\n",
       "      <td>33640</td>\n",
       "      <td>Office</td>\n",
       "      <td>Office</td>\n",
       "      <td>27322.0</td>\n",
       "      <td>NaN</td>\n",
       "      <td>NaN</td>\n",
       "      <td>NaN</td>\n",
       "      <td>NaN</td>\n",
       "      <td>NaN</td>\n",
       "      <td>69.0</td>\n",
       "      <td>40.0</td>\n",
       "      <td>43.9</td>\n",
       "      <td>125.7</td>\n",
       "      <td>137.9</td>\n",
       "      <td>1093416.0</td>\n",
       "      <td>1199702.0</td>\n",
       "      <td>0.0</td>\n",
       "      <td>320462.0</td>\n",
       "      <td>1093461.0</td>\n",
       "      <td>0.0</td>\n",
       "      <td>0.0</td>\n",
       "      <td>0.0</td>\n",
       "      <td>7.62</td>\n",
       "      <td>0.09</td>\n",
       "      <td>No</td>\n",
       "      <td>NaN</td>\n",
       "      <td>Compliant</td>\n",
       "      <td>NaN</td>\n",
       "    </tr>\n",
       "  </tbody>\n",
       "</table>\n",
       "</div>"
      ],
      "text/plain": [
       "      OSEBuildingID  DataYear          BuildingType  \\\n",
       "2791          26846      2015  Multifamily MR (5-9)   \n",
       "1792          23367      2015  Multifamily MR (5-9)   \n",
       "562             755      2015        NonResidential   \n",
       "832           19919      2015  Multifamily MR (5-9)   \n",
       "2747          26719      2015        NonResidential   \n",
       "\n",
       "              PrimaryPropertyType                            PropertyName  \\\n",
       "2791        Senior Care Community                 WASHINGTON TERRACE APTS   \n",
       "1792         Mid-Rise Multifamily                     SEABIRD CONDOMINIUM   \n",
       "562                Medical Office                 MEDICAL DENTAL BUILDING   \n",
       "832          Mid-Rise Multifamily                       SIDNEY APARTMENTS   \n",
       "2747  Small- and Mid-Sized Office  FOSTER WHITE GALLERY/SEATTLE FIRE DEPT   \n",
       "\n",
       "     TaxParcelIdentificationNumber  \\\n",
       "2791                    5247802065   \n",
       "1792                    7628300000   \n",
       "562                      659000085   \n",
       "832                      696000260   \n",
       "2747                    5247801085   \n",
       "\n",
       "                                               Location  CouncilDistrictCode  \\\n",
       "2791  {'needs_recoding': False, 'longitude': '-122.3...                    2   \n",
       "1792  {'needs_recoding': False, 'longitude': '-122.3...                    1   \n",
       "562   {'needs_recoding': False, 'longitude': '-122.3...                    7   \n",
       "832   {'needs_recoding': False, 'longitude': '-122.3...                    7   \n",
       "2747  {'needs_recoding': False, 'longitude': '-122.3...                    7   \n",
       "\n",
       "     Neighborhood  YearBuilt  NumberofBuildings  NumberofFloors  \\\n",
       "2791     DOWNTOWN       2005                  1             7.0   \n",
       "1792    SOUTHWEST       1976                  1             5.0   \n",
       "562      DOWNTOWN       1925                  1            18.0   \n",
       "832      DOWNTOWN       2000                  1             6.0   \n",
       "2747     DOWNTOWN       1905                  1             2.0   \n",
       "\n",
       "      PropertyGFATotal  PropertyGFAParking  PropertyGFABuilding(s)  \\\n",
       "2791            134974               27662                  107312   \n",
       "1792             72155                   0                   72155   \n",
       "562             363934               28870                  335064   \n",
       "832             160141               40377                  119764   \n",
       "2747             33640                   0                   33640   \n",
       "\n",
       "                  ListOfAllPropertyUseTypes LargestPropertyUseType  \\\n",
       "2791         Parking, Senior Care Community  Senior Care Community   \n",
       "1792           Multifamily Housing, Parking    Multifamily Housing   \n",
       "562   Medical Office, Parking, Retail Store         Medical Office   \n",
       "832                     Multifamily Housing    Multifamily Housing   \n",
       "2747                                 Office                 Office   \n",
       "\n",
       "      LargestPropertyUseTypeGFA SecondLargestPropertyUseType  \\\n",
       "2791                   107312.0                      Parking   \n",
       "1792                    72155.0                      Parking   \n",
       "562                    281598.0                      Parking   \n",
       "832                    132400.0                          NaN   \n",
       "2747                    27322.0                          NaN   \n",
       "\n",
       "      SecondLargestPropertyUseTypeGFA ThirdLargestPropertyUseType  \\\n",
       "2791                          27662.0                         NaN   \n",
       "1792                          18039.0                         NaN   \n",
       "562                           27597.0                Retail Store   \n",
       "832                               NaN                         NaN   \n",
       "2747                              NaN                         NaN   \n",
       "\n",
       "      ThirdLargestPropertyUseTypeGFA YearsENERGYSTARCertified  \\\n",
       "2791                             NaN                      NaN   \n",
       "1792                             NaN                      NaN   \n",
       "562                          21519.0                      NaN   \n",
       "832                              NaN                      NaN   \n",
       "2747                             NaN                      NaN   \n",
       "\n",
       "      ENERGYSTARScore  SiteEUI(kBtu/sf)  SiteEUIWN(kBtu/sf)  \\\n",
       "2791            100.0              34.7                38.0   \n",
       "1792             63.0              27.3                32.1   \n",
       "562              67.0              76.6                81.1   \n",
       "832              80.0              25.7                26.3   \n",
       "2747             69.0              40.0                43.9   \n",
       "\n",
       "      SourceEUI(kBtu/sf)  SourceEUIWN(kBtu/sf)  SiteEnergyUse(kBtu)  \\\n",
       "2791                79.4                  86.7            3724014.0   \n",
       "1792                70.3                  81.1            1972396.0   \n",
       "562                200.0                 201.3           23230284.0   \n",
       "832                 80.8                  82.5            3404992.0   \n",
       "2747               125.7                 137.9            1093416.0   \n",
       "\n",
       "      SiteEnergyUseWN(kBtu)  SteamUse(kBtu)  Electricity(kWh)  \\\n",
       "2791              4082016.0             0.0          646371.0   \n",
       "1792              2313491.0             0.0          420584.0   \n",
       "562              24589070.0       6352835.0         4943277.0   \n",
       "832               3476778.0             0.0          997946.0   \n",
       "2747              1199702.0             0.0          320462.0   \n",
       "\n",
       "      Electricity(kBtu)  NaturalGas(therms)  NaturalGas(kBtu)  \\\n",
       "2791          2205511.0             15186.0         1518595.0   \n",
       "1792          1435090.0              5374.0          537365.0   \n",
       "562          16867161.0               110.0           10989.0   \n",
       "832           3405134.0                 0.0               0.0   \n",
       "2747          1093461.0                 0.0               0.0   \n",
       "\n",
       "      OtherFuelUse(kBtu)  GHGEmissions(MetricTonsCO2e)  \\\n",
       "2791                 0.0                         96.03   \n",
       "1792                 0.0                         38.54   \n",
       "562                  0.0                        608.53   \n",
       "832                  0.0                         23.74   \n",
       "2747                 0.0                          7.62   \n",
       "\n",
       "      GHGEmissionsIntensity(kgCO2e/ft2) DefaultData Comment ComplianceStatus  \\\n",
       "2791                               0.64          No     NaN        Compliant   \n",
       "1792                               0.45          No     NaN        Compliant   \n",
       "562                                1.47         Yes     NaN        Compliant   \n",
       "832                                0.06          No     NaN        Compliant   \n",
       "2747                               0.09          No     NaN        Compliant   \n",
       "\n",
       "     Outlier  \n",
       "2791     NaN  \n",
       "1792     NaN  \n",
       "562      NaN  \n",
       "832      NaN  \n",
       "2747     NaN  "
      ]
     },
     "execution_count": 5,
     "metadata": {},
     "output_type": "execute_result"
    }
   ],
   "source": [
    "# First look\n",
    "data_2015.sample(5)"
   ]
  },
  {
   "cell_type": "code",
   "execution_count": 6,
   "metadata": {
    "Collapsed": "false"
   },
   "outputs": [
    {
     "data": {
      "text/html": [
       "<div>\n",
       "<style scoped>\n",
       "    .dataframe tbody tr th:only-of-type {\n",
       "        vertical-align: middle;\n",
       "    }\n",
       "\n",
       "    .dataframe tbody tr th {\n",
       "        vertical-align: top;\n",
       "    }\n",
       "\n",
       "    .dataframe thead th {\n",
       "        text-align: right;\n",
       "    }\n",
       "</style>\n",
       "<table border=\"1\" class=\"dataframe\">\n",
       "  <thead>\n",
       "    <tr style=\"text-align: right;\">\n",
       "      <th></th>\n",
       "      <th>OSEBuildingID</th>\n",
       "      <th>DataYear</th>\n",
       "      <th>BuildingType</th>\n",
       "      <th>PrimaryPropertyType</th>\n",
       "      <th>PropertyName</th>\n",
       "      <th>Address</th>\n",
       "      <th>City</th>\n",
       "      <th>State</th>\n",
       "      <th>ZipCode</th>\n",
       "      <th>TaxParcelIdentificationNumber</th>\n",
       "      <th>CouncilDistrictCode</th>\n",
       "      <th>Neighborhood</th>\n",
       "      <th>Latitude</th>\n",
       "      <th>Longitude</th>\n",
       "      <th>YearBuilt</th>\n",
       "      <th>NumberofBuildings</th>\n",
       "      <th>NumberofFloors</th>\n",
       "      <th>PropertyGFATotal</th>\n",
       "      <th>PropertyGFAParking</th>\n",
       "      <th>PropertyGFABuilding(s)</th>\n",
       "      <th>ListOfAllPropertyUseTypes</th>\n",
       "      <th>LargestPropertyUseType</th>\n",
       "      <th>LargestPropertyUseTypeGFA</th>\n",
       "      <th>SecondLargestPropertyUseType</th>\n",
       "      <th>SecondLargestPropertyUseTypeGFA</th>\n",
       "      <th>ThirdLargestPropertyUseType</th>\n",
       "      <th>ThirdLargestPropertyUseTypeGFA</th>\n",
       "      <th>YearsENERGYSTARCertified</th>\n",
       "      <th>ENERGYSTARScore</th>\n",
       "      <th>SiteEUI(kBtu/sf)</th>\n",
       "      <th>SiteEUIWN(kBtu/sf)</th>\n",
       "      <th>SourceEUI(kBtu/sf)</th>\n",
       "      <th>SourceEUIWN(kBtu/sf)</th>\n",
       "      <th>SiteEnergyUse(kBtu)</th>\n",
       "      <th>SiteEnergyUseWN(kBtu)</th>\n",
       "      <th>SteamUse(kBtu)</th>\n",
       "      <th>Electricity(kWh)</th>\n",
       "      <th>Electricity(kBtu)</th>\n",
       "      <th>NaturalGas(therms)</th>\n",
       "      <th>NaturalGas(kBtu)</th>\n",
       "      <th>DefaultData</th>\n",
       "      <th>Comments</th>\n",
       "      <th>ComplianceStatus</th>\n",
       "      <th>Outlier</th>\n",
       "      <th>TotalGHGEmissions</th>\n",
       "      <th>GHGEmissionsIntensity</th>\n",
       "    </tr>\n",
       "  </thead>\n",
       "  <tbody>\n",
       "    <tr>\n",
       "      <th>1614</th>\n",
       "      <td>22839</td>\n",
       "      <td>2016</td>\n",
       "      <td>Multifamily HR (10+)</td>\n",
       "      <td>High-Rise Multifamily</td>\n",
       "      <td>Grandview Condominiums</td>\n",
       "      <td>2201 3rd Av</td>\n",
       "      <td>Seattle</td>\n",
       "      <td>WA</td>\n",
       "      <td>98121.0</td>\n",
       "      <td>2867400000</td>\n",
       "      <td>7</td>\n",
       "      <td>DOWNTOWN</td>\n",
       "      <td>47.61388</td>\n",
       "      <td>-122.34405</td>\n",
       "      <td>1979</td>\n",
       "      <td>1.0</td>\n",
       "      <td>27</td>\n",
       "      <td>117069</td>\n",
       "      <td>0</td>\n",
       "      <td>117069</td>\n",
       "      <td>Multifamily Housing, Parking, Retail Store, Sw...</td>\n",
       "      <td>Multifamily Housing</td>\n",
       "      <td>164210.0</td>\n",
       "      <td>Parking</td>\n",
       "      <td>25600.0</td>\n",
       "      <td>Retail Store</td>\n",
       "      <td>6200.0</td>\n",
       "      <td>NaN</td>\n",
       "      <td>NaN</td>\n",
       "      <td>34.900002</td>\n",
       "      <td>38.400002</td>\n",
       "      <td>108.599999</td>\n",
       "      <td>119.400001</td>\n",
       "      <td>5.952875e+06</td>\n",
       "      <td>6.547260e+06</td>\n",
       "      <td>0.0</td>\n",
       "      <td>1.718635e+06</td>\n",
       "      <td>5863982.0</td>\n",
       "      <td>888.919983</td>\n",
       "      <td>88892.0</td>\n",
       "      <td>False</td>\n",
       "      <td>NaN</td>\n",
       "      <td>Compliant</td>\n",
       "      <td>NaN</td>\n",
       "      <td>45.60</td>\n",
       "      <td>0.39</td>\n",
       "    </tr>\n",
       "    <tr>\n",
       "      <th>3210</th>\n",
       "      <td>49788</td>\n",
       "      <td>2016</td>\n",
       "      <td>Multifamily MR (5-9)</td>\n",
       "      <td>Mid-Rise Multifamily</td>\n",
       "      <td>The Alder Flats</td>\n",
       "      <td>220 10th Ave</td>\n",
       "      <td>Seattle</td>\n",
       "      <td>WA</td>\n",
       "      <td>98122.0</td>\n",
       "      <td>2197600490</td>\n",
       "      <td>3</td>\n",
       "      <td>EAST</td>\n",
       "      <td>47.60420</td>\n",
       "      <td>-122.31918</td>\n",
       "      <td>2013</td>\n",
       "      <td>1.0</td>\n",
       "      <td>6</td>\n",
       "      <td>31981</td>\n",
       "      <td>0</td>\n",
       "      <td>31981</td>\n",
       "      <td>Multifamily Housing</td>\n",
       "      <td>Multifamily Housing</td>\n",
       "      <td>31981.0</td>\n",
       "      <td>NaN</td>\n",
       "      <td>NaN</td>\n",
       "      <td>NaN</td>\n",
       "      <td>NaN</td>\n",
       "      <td>NaN</td>\n",
       "      <td>100.0</td>\n",
       "      <td>27.100000</td>\n",
       "      <td>27.900000</td>\n",
       "      <td>85.099998</td>\n",
       "      <td>87.599998</td>\n",
       "      <td>8.668254e+05</td>\n",
       "      <td>8.926955e+05</td>\n",
       "      <td>0.0</td>\n",
       "      <td>2.540520e+05</td>\n",
       "      <td>866825.0</td>\n",
       "      <td>0.000000</td>\n",
       "      <td>0.0</td>\n",
       "      <td>False</td>\n",
       "      <td>NaN</td>\n",
       "      <td>Compliant</td>\n",
       "      <td>NaN</td>\n",
       "      <td>6.04</td>\n",
       "      <td>0.19</td>\n",
       "    </tr>\n",
       "    <tr>\n",
       "      <th>2569</th>\n",
       "      <td>26129</td>\n",
       "      <td>2016</td>\n",
       "      <td>Multifamily LR (1-4)</td>\n",
       "      <td>Low-Rise Multifamily</td>\n",
       "      <td>Morris Apartments</td>\n",
       "      <td>1743 Summit Ave</td>\n",
       "      <td>Seattle</td>\n",
       "      <td>WA</td>\n",
       "      <td>98122.0</td>\n",
       "      <td>8804901090</td>\n",
       "      <td>3</td>\n",
       "      <td>EAST</td>\n",
       "      <td>47.61760</td>\n",
       "      <td>-122.32592</td>\n",
       "      <td>1916</td>\n",
       "      <td>1.0</td>\n",
       "      <td>3</td>\n",
       "      <td>20340</td>\n",
       "      <td>0</td>\n",
       "      <td>20340</td>\n",
       "      <td>Multifamily Housing</td>\n",
       "      <td>Multifamily Housing</td>\n",
       "      <td>20340.0</td>\n",
       "      <td>NaN</td>\n",
       "      <td>NaN</td>\n",
       "      <td>NaN</td>\n",
       "      <td>NaN</td>\n",
       "      <td>NaN</td>\n",
       "      <td>69.0</td>\n",
       "      <td>65.599998</td>\n",
       "      <td>72.300003</td>\n",
       "      <td>95.000000</td>\n",
       "      <td>102.000000</td>\n",
       "      <td>1.335008e+06</td>\n",
       "      <td>1.470486e+06</td>\n",
       "      <td>0.0</td>\n",
       "      <td>7.444080e+04</td>\n",
       "      <td>253992.0</td>\n",
       "      <td>10810.160160</td>\n",
       "      <td>1081016.0</td>\n",
       "      <td>False</td>\n",
       "      <td>NaN</td>\n",
       "      <td>Compliant</td>\n",
       "      <td>NaN</td>\n",
       "      <td>59.18</td>\n",
       "      <td>2.91</td>\n",
       "    </tr>\n",
       "    <tr>\n",
       "      <th>1401</th>\n",
       "      <td>21714</td>\n",
       "      <td>2016</td>\n",
       "      <td>Multifamily HR (10+)</td>\n",
       "      <td>High-Rise Multifamily</td>\n",
       "      <td>The Century</td>\n",
       "      <td>101 Taylor Ave N</td>\n",
       "      <td>Seattle</td>\n",
       "      <td>WA</td>\n",
       "      <td>98109.0</td>\n",
       "      <td>1991200205</td>\n",
       "      <td>7</td>\n",
       "      <td>LAKE UNION</td>\n",
       "      <td>47.61890</td>\n",
       "      <td>-122.34671</td>\n",
       "      <td>2014</td>\n",
       "      <td>1.0</td>\n",
       "      <td>10</td>\n",
       "      <td>336003</td>\n",
       "      <td>0</td>\n",
       "      <td>336003</td>\n",
       "      <td>Multifamily Housing</td>\n",
       "      <td>Multifamily Housing</td>\n",
       "      <td>339545.0</td>\n",
       "      <td>NaN</td>\n",
       "      <td>NaN</td>\n",
       "      <td>NaN</td>\n",
       "      <td>NaN</td>\n",
       "      <td>NaN</td>\n",
       "      <td>92.0</td>\n",
       "      <td>29.799999</td>\n",
       "      <td>30.600000</td>\n",
       "      <td>68.300003</td>\n",
       "      <td>69.099998</td>\n",
       "      <td>1.012660e+07</td>\n",
       "      <td>1.038222e+07</td>\n",
       "      <td>0.0</td>\n",
       "      <td>1.762388e+06</td>\n",
       "      <td>6013267.0</td>\n",
       "      <td>41133.300780</td>\n",
       "      <td>4113330.0</td>\n",
       "      <td>False</td>\n",
       "      <td>NaN</td>\n",
       "      <td>Compliant</td>\n",
       "      <td>NaN</td>\n",
       "      <td>260.38</td>\n",
       "      <td>0.77</td>\n",
       "    </tr>\n",
       "    <tr>\n",
       "      <th>3030</th>\n",
       "      <td>27932</td>\n",
       "      <td>2016</td>\n",
       "      <td>Multifamily LR (1-4)</td>\n",
       "      <td>Low-Rise Multifamily</td>\n",
       "      <td>Wilana Apartments</td>\n",
       "      <td>1732 15th Ave</td>\n",
       "      <td>Seattle</td>\n",
       "      <td>WA</td>\n",
       "      <td>98122.0</td>\n",
       "      <td>7234600350</td>\n",
       "      <td>3</td>\n",
       "      <td>EAST</td>\n",
       "      <td>47.61745</td>\n",
       "      <td>-122.31235</td>\n",
       "      <td>1909</td>\n",
       "      <td>1.0</td>\n",
       "      <td>3</td>\n",
       "      <td>25920</td>\n",
       "      <td>0</td>\n",
       "      <td>25920</td>\n",
       "      <td>Multifamily Housing</td>\n",
       "      <td>Multifamily Housing</td>\n",
       "      <td>25920.0</td>\n",
       "      <td>NaN</td>\n",
       "      <td>NaN</td>\n",
       "      <td>NaN</td>\n",
       "      <td>NaN</td>\n",
       "      <td>NaN</td>\n",
       "      <td>76.0</td>\n",
       "      <td>29.299999</td>\n",
       "      <td>32.000000</td>\n",
       "      <td>69.800003</td>\n",
       "      <td>77.500000</td>\n",
       "      <td>7.595087e+05</td>\n",
       "      <td>8.292867e+05</td>\n",
       "      <td>0.0</td>\n",
       "      <td>1.417690e+05</td>\n",
       "      <td>483716.0</td>\n",
       "      <td>2757.929932</td>\n",
       "      <td>275793.0</td>\n",
       "      <td>False</td>\n",
       "      <td>NaN</td>\n",
       "      <td>Compliant</td>\n",
       "      <td>NaN</td>\n",
       "      <td>18.02</td>\n",
       "      <td>0.70</td>\n",
       "    </tr>\n",
       "  </tbody>\n",
       "</table>\n",
       "</div>"
      ],
      "text/plain": [
       "      OSEBuildingID  DataYear          BuildingType    PrimaryPropertyType  \\\n",
       "1614          22839      2016  Multifamily HR (10+)  High-Rise Multifamily   \n",
       "3210          49788      2016  Multifamily MR (5-9)   Mid-Rise Multifamily   \n",
       "2569          26129      2016  Multifamily LR (1-4)   Low-Rise Multifamily   \n",
       "1401          21714      2016  Multifamily HR (10+)  High-Rise Multifamily   \n",
       "3030          27932      2016  Multifamily LR (1-4)   Low-Rise Multifamily   \n",
       "\n",
       "                PropertyName           Address     City State  ZipCode  \\\n",
       "1614  Grandview Condominiums       2201 3rd Av  Seattle    WA  98121.0   \n",
       "3210         The Alder Flats      220 10th Ave  Seattle    WA  98122.0   \n",
       "2569       Morris Apartments   1743 Summit Ave  Seattle    WA  98122.0   \n",
       "1401             The Century  101 Taylor Ave N  Seattle    WA  98109.0   \n",
       "3030       Wilana Apartments     1732 15th Ave  Seattle    WA  98122.0   \n",
       "\n",
       "     TaxParcelIdentificationNumber  CouncilDistrictCode Neighborhood  \\\n",
       "1614                    2867400000                    7     DOWNTOWN   \n",
       "3210                    2197600490                    3         EAST   \n",
       "2569                    8804901090                    3         EAST   \n",
       "1401                    1991200205                    7   LAKE UNION   \n",
       "3030                    7234600350                    3         EAST   \n",
       "\n",
       "      Latitude  Longitude  YearBuilt  NumberofBuildings  NumberofFloors  \\\n",
       "1614  47.61388 -122.34405       1979                1.0              27   \n",
       "3210  47.60420 -122.31918       2013                1.0               6   \n",
       "2569  47.61760 -122.32592       1916                1.0               3   \n",
       "1401  47.61890 -122.34671       2014                1.0              10   \n",
       "3030  47.61745 -122.31235       1909                1.0               3   \n",
       "\n",
       "      PropertyGFATotal  PropertyGFAParking  PropertyGFABuilding(s)  \\\n",
       "1614            117069                   0                  117069   \n",
       "3210             31981                   0                   31981   \n",
       "2569             20340                   0                   20340   \n",
       "1401            336003                   0                  336003   \n",
       "3030             25920                   0                   25920   \n",
       "\n",
       "                              ListOfAllPropertyUseTypes  \\\n",
       "1614  Multifamily Housing, Parking, Retail Store, Sw...   \n",
       "3210                                Multifamily Housing   \n",
       "2569                                Multifamily Housing   \n",
       "1401                                Multifamily Housing   \n",
       "3030                                Multifamily Housing   \n",
       "\n",
       "     LargestPropertyUseType  LargestPropertyUseTypeGFA  \\\n",
       "1614    Multifamily Housing                   164210.0   \n",
       "3210    Multifamily Housing                    31981.0   \n",
       "2569    Multifamily Housing                    20340.0   \n",
       "1401    Multifamily Housing                   339545.0   \n",
       "3030    Multifamily Housing                    25920.0   \n",
       "\n",
       "     SecondLargestPropertyUseType  SecondLargestPropertyUseTypeGFA  \\\n",
       "1614                      Parking                          25600.0   \n",
       "3210                          NaN                              NaN   \n",
       "2569                          NaN                              NaN   \n",
       "1401                          NaN                              NaN   \n",
       "3030                          NaN                              NaN   \n",
       "\n",
       "     ThirdLargestPropertyUseType  ThirdLargestPropertyUseTypeGFA  \\\n",
       "1614                Retail Store                          6200.0   \n",
       "3210                         NaN                             NaN   \n",
       "2569                         NaN                             NaN   \n",
       "1401                         NaN                             NaN   \n",
       "3030                         NaN                             NaN   \n",
       "\n",
       "     YearsENERGYSTARCertified  ENERGYSTARScore  SiteEUI(kBtu/sf)  \\\n",
       "1614                      NaN              NaN         34.900002   \n",
       "3210                      NaN            100.0         27.100000   \n",
       "2569                      NaN             69.0         65.599998   \n",
       "1401                      NaN             92.0         29.799999   \n",
       "3030                      NaN             76.0         29.299999   \n",
       "\n",
       "      SiteEUIWN(kBtu/sf)  SourceEUI(kBtu/sf)  SourceEUIWN(kBtu/sf)  \\\n",
       "1614           38.400002          108.599999            119.400001   \n",
       "3210           27.900000           85.099998             87.599998   \n",
       "2569           72.300003           95.000000            102.000000   \n",
       "1401           30.600000           68.300003             69.099998   \n",
       "3030           32.000000           69.800003             77.500000   \n",
       "\n",
       "      SiteEnergyUse(kBtu)  SiteEnergyUseWN(kBtu)  SteamUse(kBtu)  \\\n",
       "1614         5.952875e+06           6.547260e+06             0.0   \n",
       "3210         8.668254e+05           8.926955e+05             0.0   \n",
       "2569         1.335008e+06           1.470486e+06             0.0   \n",
       "1401         1.012660e+07           1.038222e+07             0.0   \n",
       "3030         7.595087e+05           8.292867e+05             0.0   \n",
       "\n",
       "      Electricity(kWh)  Electricity(kBtu)  NaturalGas(therms)  \\\n",
       "1614      1.718635e+06          5863982.0          888.919983   \n",
       "3210      2.540520e+05           866825.0            0.000000   \n",
       "2569      7.444080e+04           253992.0        10810.160160   \n",
       "1401      1.762388e+06          6013267.0        41133.300780   \n",
       "3030      1.417690e+05           483716.0         2757.929932   \n",
       "\n",
       "      NaturalGas(kBtu)  DefaultData  Comments ComplianceStatus Outlier  \\\n",
       "1614           88892.0        False       NaN        Compliant     NaN   \n",
       "3210               0.0        False       NaN        Compliant     NaN   \n",
       "2569         1081016.0        False       NaN        Compliant     NaN   \n",
       "1401         4113330.0        False       NaN        Compliant     NaN   \n",
       "3030          275793.0        False       NaN        Compliant     NaN   \n",
       "\n",
       "      TotalGHGEmissions  GHGEmissionsIntensity  \n",
       "1614              45.60                   0.39  \n",
       "3210               6.04                   0.19  \n",
       "2569              59.18                   2.91  \n",
       "1401             260.38                   0.77  \n",
       "3030              18.02                   0.70  "
      ]
     },
     "execution_count": 6,
     "metadata": {},
     "output_type": "execute_result"
    }
   ],
   "source": [
    "data_2016.sample(5)"
   ]
  },
  {
   "cell_type": "markdown",
   "metadata": {
    "Collapsed": "false"
   },
   "source": [
    "# Creation of a single dataset"
   ]
  },
  {
   "cell_type": "markdown",
   "metadata": {
    "Collapsed": "false"
   },
   "source": [
    "## Shared columns"
   ]
  },
  {
   "cell_type": "code",
   "execution_count": 7,
   "metadata": {
    "Collapsed": "false"
   },
   "outputs": [
    {
     "data": {
      "text/plain": [
       "(42, 46)"
      ]
     },
     "execution_count": 7,
     "metadata": {},
     "output_type": "execute_result"
    }
   ],
   "source": [
    "# Number of columns per dataset\n",
    "len(data_2015.columns), len(data_2016.columns)"
   ]
  },
  {
   "cell_type": "code",
   "execution_count": 8,
   "metadata": {
    "Collapsed": "false"
   },
   "outputs": [
    {
     "data": {
      "text/plain": [
       "37"
      ]
     },
     "execution_count": 8,
     "metadata": {},
     "output_type": "execute_result"
    }
   ],
   "source": [
    "# Shared columns\n",
    "l_shared_columns = [c for c in data_2015.columns if c in data_2016.columns]\n",
    "len(l_shared_columns)"
   ]
  },
  {
   "cell_type": "code",
   "execution_count": 9,
   "metadata": {
    "Collapsed": "false"
   },
   "outputs": [
    {
     "data": {
      "text/plain": [
       "34"
      ]
     },
     "execution_count": 9,
     "metadata": {},
     "output_type": "execute_result"
    }
   ],
   "source": [
    "# Checking wether shared columns have the same type in both datasets\n",
    "l_same_type = [c for c in l_shared_columns if data_2015[c].dtype == data_2016[c].dtype]\n",
    "len(l_same_type)"
   ]
  },
  {
   "cell_type": "markdown",
   "metadata": {
    "Collapsed": "false"
   },
   "source": [
    "### Converting shared columns to the same type"
   ]
  },
  {
   "cell_type": "code",
   "execution_count": 10,
   "metadata": {
    "Collapsed": "false"
   },
   "outputs": [
    {
     "data": {
      "text/plain": [
       "['NumberofBuildings', 'NumberofFloors', 'DefaultData']"
      ]
     },
     "execution_count": 10,
     "metadata": {},
     "output_type": "execute_result"
    }
   ],
   "source": [
    "# Searching for shared columns with different types\n",
    "l_diff_type = [c for c in l_shared_columns if c not in l_same_type]\n",
    "l_diff_type"
   ]
  },
  {
   "cell_type": "markdown",
   "metadata": {
    "Collapsed": "false"
   },
   "source": [
    "#### Number of buildings, number of Floors"
   ]
  },
  {
   "cell_type": "code",
   "execution_count": 11,
   "metadata": {
    "Collapsed": "false"
   },
   "outputs": [
    {
     "name": "stdout",
     "output_type": "stream",
     "text": [
      "NumberofBuildings : 2015 dtype = int64, 2016 dtype = float64\n",
      "NumberofFloors : 2015 dtype = float64, 2016 dtype = int64\n",
      "DefaultData : 2015 dtype = object, 2016 dtype = bool\n"
     ]
    }
   ],
   "source": [
    "for c in l_diff_type:\n",
    "    print(\"{} : 2015 dtype = {}, 2016 dtype = {}\".format(c, data_2015[c].dtype, data_2016[c].dtype))"
   ]
  },
  {
   "cell_type": "code",
   "execution_count": 12,
   "metadata": {
    "Collapsed": "false"
   },
   "outputs": [
    {
     "data": {
      "text/plain": [
       "array([  1.,   3.,   0.,   2.,   4.,  27.,   6.,  11.,  14.,   9.,   5.,\n",
       "        nan,   7.,   8.,  16.,  23.,  10., 111.])"
      ]
     },
     "execution_count": 12,
     "metadata": {},
     "output_type": "execute_result"
    }
   ],
   "source": [
    "data_2016['NumberofBuildings'].unique()"
   ]
  },
  {
   "cell_type": "code",
   "execution_count": 13,
   "metadata": {
    "Collapsed": "false"
   },
   "outputs": [
    {
     "data": {
      "text/plain": [
       "array([12., 11., 41., 10., 18.,  2.,  8., 15.,  6., 25.,  9., 33., 28.,\n",
       "        5., 19.,  7.,  1.,  3.,  4., 24., 20., 34.,  0., 16., 23., 17.,\n",
       "       36., 22., 47., 29., 14., 49., 37., 42., 63., 13., 21., 55., 46.,\n",
       "       30., 56., 26., 27., 76., 31., 99., 38., nan, 39., 32., 40.])"
      ]
     },
     "execution_count": 13,
     "metadata": {},
     "output_type": "execute_result"
    }
   ],
   "source": [
    "data_2015['NumberofFloors'].unique()"
   ]
  },
  {
   "cell_type": "markdown",
   "metadata": {
    "Collapsed": "false"
   },
   "source": [
    "Number of buildings and number of floors can both be converted in integers"
   ]
  },
  {
   "cell_type": "code",
   "execution_count": 14,
   "metadata": {
    "Collapsed": "false"
   },
   "outputs": [],
   "source": [
    "# Conversion in Int64 (int64 does not accept NaN values)\n",
    "data_2016['NumberofBuildings'] = data_2016['NumberofBuildings'].astype('Int64') \n",
    "data_2015['NumberofFloors'] = data_2015['NumberofFloors'].astype('Int64')\n",
    "data_2015['NumberofBuildings'] = data_2015['NumberofBuildings'].astype('Int64') \n",
    "data_2016['NumberofFloors'] = data_2016['NumberofFloors'].astype('Int64')"
   ]
  },
  {
   "cell_type": "markdown",
   "metadata": {
    "Collapsed": "false"
   },
   "source": [
    "#### Field \"DefaultData\""
   ]
  },
  {
   "cell_type": "code",
   "execution_count": 15,
   "metadata": {
    "Collapsed": "false"
   },
   "outputs": [
    {
     "data": {
      "text/plain": [
       "(array(['No', 'Yes', nan], dtype=object), array([False,  True]))"
      ]
     },
     "execution_count": 15,
     "metadata": {},
     "output_type": "execute_result"
    }
   ],
   "source": [
    "# Field \"DefaultData\"\n",
    "data_2015['DefaultData'].unique(), data_2016['DefaultData'].unique()"
   ]
  },
  {
   "cell_type": "code",
   "execution_count": 16,
   "metadata": {
    "Collapsed": "false"
   },
   "outputs": [
    {
     "data": {
      "text/plain": [
       "No     2791\n",
       "Yes     548\n",
       "NaN       1\n",
       "Name: DefaultData, dtype: int64"
      ]
     },
     "execution_count": 16,
     "metadata": {},
     "output_type": "execute_result"
    }
   ],
   "source": [
    "data_2015['DefaultData'].value_counts(dropna = False)"
   ]
  },
  {
   "cell_type": "code",
   "execution_count": 17,
   "metadata": {
    "Collapsed": "false"
   },
   "outputs": [],
   "source": [
    "# Conversion in boolean\n",
    "data_2015 = data_2015[~data_2015['DefaultData'].isna()]\n",
    "data_2015['DefaultData'] = data_2015['DefaultData'].mask(data_2015['DefaultData'] == 'No', False)\n",
    "data_2015['DefaultData'] = data_2015['DefaultData'].mask(data_2015['DefaultData'] == 'Yes', True)\n",
    "data_2015['DefaultData'] = data_2015['DefaultData'].astype('bool')"
   ]
  },
  {
   "cell_type": "markdown",
   "metadata": {
    "Collapsed": "false"
   },
   "source": [
    "#### Checking convertion"
   ]
  },
  {
   "cell_type": "code",
   "execution_count": 18,
   "metadata": {
    "Collapsed": "false"
   },
   "outputs": [
    {
     "name": "stdout",
     "output_type": "stream",
     "text": [
      "NumberofBuildings : 2015 dtype = Int64, 2016 dtype = Int64\n",
      "NumberofFloors : 2015 dtype = Int64, 2016 dtype = Int64\n",
      "DefaultData : 2015 dtype = bool, 2016 dtype = bool\n"
     ]
    }
   ],
   "source": [
    "for c in l_diff_type:\n",
    "    print(\"{} : 2015 dtype = {}, 2016 dtype = {}\".format(c, data_2015[c].dtype, data_2016[c].dtype))"
   ]
  },
  {
   "cell_type": "markdown",
   "metadata": {
    "Collapsed": "false"
   },
   "source": [
    "## Missing columns"
   ]
  },
  {
   "cell_type": "code",
   "execution_count": 19,
   "metadata": {
    "Collapsed": "false"
   },
   "outputs": [
    {
     "data": {
      "text/plain": [
       "['Location',\n",
       " 'OtherFuelUse(kBtu)',\n",
       " 'GHGEmissions(MetricTonsCO2e)',\n",
       " 'GHGEmissionsIntensity(kgCO2e/ft2)',\n",
       " 'Comment']"
      ]
     },
     "execution_count": 19,
     "metadata": {},
     "output_type": "execute_result"
    }
   ],
   "source": [
    "[c for c in data_2015.columns if c not in data_2016.columns]"
   ]
  },
  {
   "cell_type": "code",
   "execution_count": 20,
   "metadata": {
    "Collapsed": "false"
   },
   "outputs": [
    {
     "data": {
      "text/plain": [
       "['Address',\n",
       " 'City',\n",
       " 'State',\n",
       " 'ZipCode',\n",
       " 'Latitude',\n",
       " 'Longitude',\n",
       " 'Comments',\n",
       " 'TotalGHGEmissions',\n",
       " 'GHGEmissionsIntensity']"
      ]
     },
     "execution_count": 20,
     "metadata": {},
     "output_type": "execute_result"
    }
   ],
   "source": [
    "[c for c in data_2016.columns if c not in data_2015.columns]"
   ]
  },
  {
   "cell_type": "markdown",
   "metadata": {
    "Collapsed": "false"
   },
   "source": [
    "### Spliting field location"
   ]
  },
  {
   "cell_type": "code",
   "execution_count": 21,
   "metadata": {
    "Collapsed": "false"
   },
   "outputs": [
    {
     "data": {
      "text/plain": [
       "2308    {'needs_recoding': False, 'longitude': '-122.3...\n",
       "2480    {'needs_recoding': False, 'longitude': '-122.3...\n",
       "3298    {'needs_recoding': False, 'longitude': '-122.3...\n",
       "2356    {'needs_recoding': False, 'longitude': '-122.3...\n",
       "1562    {'needs_recoding': False, 'longitude': '-122.2...\n",
       "Name: Location, dtype: object"
      ]
     },
     "execution_count": 21,
     "metadata": {},
     "output_type": "execute_result"
    }
   ],
   "source": [
    "# Look on Location column\n",
    "data_2015['Location'].sample(5)"
   ]
  },
  {
   "cell_type": "code",
   "execution_count": 22,
   "metadata": {
    "Collapsed": "false"
   },
   "outputs": [
    {
     "data": {
      "text/html": [
       "<div>\n",
       "<style scoped>\n",
       "    .dataframe tbody tr th:only-of-type {\n",
       "        vertical-align: middle;\n",
       "    }\n",
       "\n",
       "    .dataframe tbody tr th {\n",
       "        vertical-align: top;\n",
       "    }\n",
       "\n",
       "    .dataframe thead th {\n",
       "        text-align: right;\n",
       "    }\n",
       "</style>\n",
       "<table border=\"1\" class=\"dataframe\">\n",
       "  <thead>\n",
       "    <tr style=\"text-align: right;\">\n",
       "      <th></th>\n",
       "      <th>0</th>\n",
       "      <th>1</th>\n",
       "      <th>2</th>\n",
       "      <th>3</th>\n",
       "      <th>4</th>\n",
       "      <th>5</th>\n",
       "      <th>6</th>\n",
       "    </tr>\n",
       "  </thead>\n",
       "  <tbody>\n",
       "    <tr>\n",
       "      <th>1805</th>\n",
       "      <td>{'needs_recoding': False</td>\n",
       "      <td>'longitude': '-122.3220338'</td>\n",
       "      <td>'latitude': '47.59725918'</td>\n",
       "      <td>'human_address': '{\"address\":\"815 S WELLER ST\"</td>\n",
       "      <td>\"city\":\"SEATTLE\"</td>\n",
       "      <td>\"state\":\"WA\"</td>\n",
       "      <td>\"zip\":\"98104\"}'}</td>\n",
       "    </tr>\n",
       "    <tr>\n",
       "      <th>1312</th>\n",
       "      <td>{'needs_recoding': False</td>\n",
       "      <td>'longitude': '-122.340545'</td>\n",
       "      <td>'latitude': '47.608951'</td>\n",
       "      <td>'human_address': '{\"address\":\"1505 1ST AVE\"</td>\n",
       "      <td>\"city\":\"SEATTLE\"</td>\n",
       "      <td>\"state\":\"WA\"</td>\n",
       "      <td>\"zip\":\"98101\"}'}</td>\n",
       "    </tr>\n",
       "    <tr>\n",
       "      <th>1459</th>\n",
       "      <td>{'needs_recoding': False</td>\n",
       "      <td>'longitude': '-122.387786'</td>\n",
       "      <td>'latitude': '47.65246456'</td>\n",
       "      <td>'human_address': '{\"address\":\"3601 24TH AVE W\"</td>\n",
       "      <td>\"city\":\"SEATTLE\"</td>\n",
       "      <td>\"state\":\"WA\"</td>\n",
       "      <td>\"zip\":\"98199\"}'}</td>\n",
       "    </tr>\n",
       "    <tr>\n",
       "      <th>88</th>\n",
       "      <td>{'needs_recoding': False</td>\n",
       "      <td>'longitude': '-122.3589452'</td>\n",
       "      <td>'latitude': '47.6367344'</td>\n",
       "      <td>'human_address': '{\"address\":\"1915 1ST AVE W\"</td>\n",
       "      <td>\"city\":\"SEATTLE\"</td>\n",
       "      <td>\"state\":\"WA\"</td>\n",
       "      <td>\"zip\":\"98119\"}'}</td>\n",
       "    </tr>\n",
       "    <tr>\n",
       "      <th>412</th>\n",
       "      <td>{'needs_recoding': False</td>\n",
       "      <td>'longitude': '-122.3098028'</td>\n",
       "      <td>'latitude': '47.61448142'</td>\n",
       "      <td>'human_address': '{\"address\":\"1708 E PIKE ST\"</td>\n",
       "      <td>\"city\":\"SEATTLE\"</td>\n",
       "      <td>\"state\":\"WA\"</td>\n",
       "      <td>\"zip\":\"98122\"}'}</td>\n",
       "    </tr>\n",
       "  </tbody>\n",
       "</table>\n",
       "</div>"
      ],
      "text/plain": [
       "                             0                             1  \\\n",
       "1805  {'needs_recoding': False   'longitude': '-122.3220338'   \n",
       "1312  {'needs_recoding': False    'longitude': '-122.340545'   \n",
       "1459  {'needs_recoding': False    'longitude': '-122.387786'   \n",
       "88    {'needs_recoding': False   'longitude': '-122.3589452'   \n",
       "412   {'needs_recoding': False   'longitude': '-122.3098028'   \n",
       "\n",
       "                               2  \\\n",
       "1805   'latitude': '47.59725918'   \n",
       "1312     'latitude': '47.608951'   \n",
       "1459   'latitude': '47.65246456'   \n",
       "88      'latitude': '47.6367344'   \n",
       "412    'latitude': '47.61448142'   \n",
       "\n",
       "                                                    3                 4  \\\n",
       "1805   'human_address': '{\"address\":\"815 S WELLER ST\"  \"city\":\"SEATTLE\"   \n",
       "1312      'human_address': '{\"address\":\"1505 1ST AVE\"  \"city\":\"SEATTLE\"   \n",
       "1459   'human_address': '{\"address\":\"3601 24TH AVE W\"  \"city\":\"SEATTLE\"   \n",
       "88      'human_address': '{\"address\":\"1915 1ST AVE W\"  \"city\":\"SEATTLE\"   \n",
       "412     'human_address': '{\"address\":\"1708 E PIKE ST\"  \"city\":\"SEATTLE\"   \n",
       "\n",
       "                 5                 6  \n",
       "1805  \"state\":\"WA\"  \"zip\":\"98104\"}'}  \n",
       "1312  \"state\":\"WA\"  \"zip\":\"98101\"}'}  \n",
       "1459  \"state\":\"WA\"  \"zip\":\"98199\"}'}  \n",
       "88    \"state\":\"WA\"  \"zip\":\"98119\"}'}  \n",
       "412   \"state\":\"WA\"  \"zip\":\"98122\"}'}  "
      ]
     },
     "execution_count": 22,
     "metadata": {},
     "output_type": "execute_result"
    }
   ],
   "source": [
    "# Parsing location column\n",
    "df_loc_split = data_2015['Location'].str.split(pat = ',', expand = True)\n",
    "df_loc_split.sample(5)"
   ]
  },
  {
   "cell_type": "markdown",
   "metadata": {
    "Collapsed": "false"
   },
   "source": [
    "Location field in 2015 dataset contains 6 of the missing fields : Address, city, state, zip code, longitude and latitude."
   ]
  },
  {
   "cell_type": "code",
   "execution_count": 23,
   "metadata": {
    "Collapsed": "false"
   },
   "outputs": [],
   "source": [
    "# Extracting information from field location\n",
    "import ast\n",
    "\n",
    "# Extraction of dictionnairy containing longitude, latitude and entire address\n",
    "df_dict = pd.DataFrame()\n",
    "for i in data_2015.index:\n",
    "    df_dict = df_dict.append(\n",
    "        pd.DataFrame.from_dict(ast.literal_eval(data_2015['Location'][i]), orient = 'index').T,\n",
    "        ignore_index = True\n",
    "    )\n",
    "\n",
    "# Extracting dict containing Address, City, State and ZipCode    \n",
    "df_address = pd.DataFrame()    \n",
    "for i in df_dict.index:    \n",
    "    df_address = df_address.append(\n",
    "        pd.DataFrame.from_dict(ast.literal_eval(df_dict['human_address'][i]), orient = 'index').T,\n",
    "        ignore_index = True\n",
    "    )\n",
    "\n",
    "# Renaming columns\n",
    "df_dict.rename(columns = {'longitude' : 'Longitude', 'latitude' : 'Latitude'}, inplace = True)\n",
    "df_address.rename(columns = {'address' : 'Address', 'city' : 'City', 'state' : 'State', 'zip' : 'ZipCode'}, inplace = True)\n",
    "    \n",
    "# Adding extracted information in data_2015 and deleting column Location\n",
    "data_2015 = data_2015.join(df_dict[['Longitude', 'Latitude']]).join(df_address)\n",
    "data_2015.drop(columns = 'Location', inplace = True)"
   ]
  },
  {
   "cell_type": "code",
   "execution_count": 24,
   "metadata": {
    "Collapsed": "false"
   },
   "outputs": [
    {
     "data": {
      "text/plain": [
       "(['OtherFuelUse(kBtu)',\n",
       "  'GHGEmissions(MetricTonsCO2e)',\n",
       "  'GHGEmissionsIntensity(kgCO2e/ft2)',\n",
       "  'Comment'],\n",
       " ['Comments', 'TotalGHGEmissions', 'GHGEmissionsIntensity'])"
      ]
     },
     "execution_count": 24,
     "metadata": {},
     "output_type": "execute_result"
    }
   ],
   "source": [
    "# Checking missing columns after split\n",
    "[c for c in data_2015.columns if c not in data_2016.columns], [c for c in data_2016.columns if c not in data_2015.columns]"
   ]
  },
  {
   "cell_type": "markdown",
   "metadata": {
    "Collapsed": "false"
   },
   "source": [
    "### Dtypes of newly created columns"
   ]
  },
  {
   "cell_type": "code",
   "execution_count": 25,
   "metadata": {
    "Collapsed": "false"
   },
   "outputs": [
    {
     "data": {
      "text/plain": [
       "Longitude    object\n",
       "Latitude     object\n",
       "Address      object\n",
       "City         object\n",
       "State        object\n",
       "ZipCode      object\n",
       "dtype: object"
      ]
     },
     "execution_count": 25,
     "metadata": {},
     "output_type": "execute_result"
    }
   ],
   "source": [
    "list_location = ['Longitude', 'Latitude', 'Address', 'City', 'State', 'ZipCode']\n",
    "data_2015[list_location].dtypes"
   ]
  },
  {
   "cell_type": "code",
   "execution_count": 26,
   "metadata": {
    "Collapsed": "false"
   },
   "outputs": [
    {
     "data": {
      "text/plain": [
       "Longitude    float64\n",
       "Latitude     float64\n",
       "Address       object\n",
       "City          object\n",
       "State         object\n",
       "ZipCode      float64\n",
       "dtype: object"
      ]
     },
     "execution_count": 26,
     "metadata": {},
     "output_type": "execute_result"
    }
   ],
   "source": [
    "data_2016[list_location].dtypes"
   ]
  },
  {
   "cell_type": "code",
   "execution_count": 27,
   "metadata": {
    "Collapsed": "false"
   },
   "outputs": [],
   "source": [
    "# Converting 2015 location columns type\n",
    "for c in list_location:\n",
    "    data_2015[c] = data_2015[c].astype(data_2016[c].dtype)"
   ]
  },
  {
   "cell_type": "markdown",
   "metadata": {
    "Collapsed": "false"
   },
   "source": [
    "### Comment field"
   ]
  },
  {
   "cell_type": "code",
   "execution_count": 28,
   "metadata": {
    "Collapsed": "false"
   },
   "outputs": [
    {
     "data": {
      "text/plain": [
       "2319    Part of McKinstry's campus, property includes ...\n",
       "1358    Under construction starting 6/2013 (old buildi...\n",
       "719     Construction completed in mid 2015. The buildi...\n",
       "2381    Property now has two buildings: Thornton Creek...\n",
       "2108    Under construction starting 09/2014 (old build...\n",
       "Name: Comment, dtype: object"
      ]
     },
     "execution_count": 28,
     "metadata": {},
     "output_type": "execute_result"
    }
   ],
   "source": [
    "# Look on comment\n",
    "data_2015['Comment'].dropna().sample(5)"
   ]
  },
  {
   "cell_type": "code",
   "execution_count": 29,
   "metadata": {
    "Collapsed": "false"
   },
   "outputs": [
    {
     "data": {
      "text/plain": [
       "array([nan])"
      ]
     },
     "execution_count": 29,
     "metadata": {},
     "output_type": "execute_result"
    }
   ],
   "source": [
    "data_2016['Comments'].unique()"
   ]
  },
  {
   "cell_type": "code",
   "execution_count": 30,
   "metadata": {
    "Collapsed": "false"
   },
   "outputs": [],
   "source": [
    "# Renaming column\n",
    "data_2015.rename(columns = {'Comment' : 'Comments'}, inplace = True)"
   ]
  },
  {
   "cell_type": "markdown",
   "metadata": {
    "Collapsed": "false"
   },
   "source": [
    "### GHG Emissions field"
   ]
  },
  {
   "cell_type": "code",
   "execution_count": 31,
   "metadata": {
    "Collapsed": "false"
   },
   "outputs": [
    {
     "data": {
      "image/png": "[encoded data removed]",
      "text/plain": [
       "<Figure size 1080x720 with 4 Axes>"
      ]
     },
     "metadata": {
      "needs_background": "light"
     },
     "output_type": "display_data"
    }
   ],
   "source": [
    "# Comparing values for total emissions\n",
    "from PElec_01_scripts import compare_plot\n",
    "field_list = [data_2015['GHGEmissions(MetricTonsCO2e)'], data_2016['TotalGHGEmissions']]\n",
    "compare_plot(field_list, title = \"Comparing GHG Emissions fields\")"
   ]
  },
  {
   "cell_type": "code",
   "execution_count": 32,
   "metadata": {
    "Collapsed": "false"
   },
   "outputs": [
    {
     "data": {
      "image/png": "[encoded data removed]",
      "text/plain": [
       "<Figure size 1080x720 with 4 Axes>"
      ]
     },
     "metadata": {
      "needs_background": "light"
     },
     "output_type": "display_data"
    }
   ],
   "source": [
    "# Comparing values for total emissions\n",
    "field_list = [data_2015['GHGEmissionsIntensity(kgCO2e/ft2)'], data_2016['GHGEmissionsIntensity']]\n",
    "compare_plot(field_list, title = \"Comparing GHG Emissions Intensity fields\")"
   ]
  },
  {
   "cell_type": "code",
   "execution_count": 33,
   "metadata": {
    "Collapsed": "false"
   },
   "outputs": [],
   "source": [
    "# Renaming field\n",
    "data_2016.rename(columns = {'TotalGHGEmissions' : 'GHGEmissions(MetricTonsCO2e)', \n",
    "                            'GHGEmissionsIntensity' : 'GHGEmissionsIntensity(kgCO2e/ft2)'}, \n",
    "                 inplace = True)"
   ]
  },
  {
   "cell_type": "markdown",
   "metadata": {
    "Collapsed": "false"
   },
   "source": [
    "## Combining datasets and storing"
   ]
  },
  {
   "cell_type": "code",
   "execution_count": 34,
   "metadata": {
    "Collapsed": "false"
   },
   "outputs": [],
   "source": [
    "data = data_2015.append(data_2016, sort = False, ignore_index = True)"
   ]
  },
  {
   "cell_type": "code",
   "execution_count": 35,
   "metadata": {
    "Collapsed": "false"
   },
   "outputs": [
    {
     "data": {
      "text/plain": [
       "Index(['OSEBuildingID', 'DataYear', 'BuildingType', 'PrimaryPropertyType',\n",
       "       'PropertyName', 'TaxParcelIdentificationNumber', 'CouncilDistrictCode',\n",
       "       'Neighborhood', 'YearBuilt', 'NumberofBuildings', 'NumberofFloors',\n",
       "       'PropertyGFATotal', 'PropertyGFAParking', 'PropertyGFABuilding(s)',\n",
       "       'ListOfAllPropertyUseTypes', 'LargestPropertyUseType',\n",
       "       'LargestPropertyUseTypeGFA', 'SecondLargestPropertyUseType',\n",
       "       'SecondLargestPropertyUseTypeGFA', 'ThirdLargestPropertyUseType',\n",
       "       'ThirdLargestPropertyUseTypeGFA', 'YearsENERGYSTARCertified',\n",
       "       'ENERGYSTARScore', 'SiteEUI(kBtu/sf)', 'SiteEUIWN(kBtu/sf)',\n",
       "       'SourceEUI(kBtu/sf)', 'SourceEUIWN(kBtu/sf)', 'SiteEnergyUse(kBtu)',\n",
       "       'SiteEnergyUseWN(kBtu)', 'SteamUse(kBtu)', 'Electricity(kWh)',\n",
       "       'Electricity(kBtu)', 'NaturalGas(therms)', 'NaturalGas(kBtu)',\n",
       "       'OtherFuelUse(kBtu)', 'GHGEmissions(MetricTonsCO2e)',\n",
       "       'GHGEmissionsIntensity(kgCO2e/ft2)', 'DefaultData', 'Comments',\n",
       "       'ComplianceStatus', 'Outlier', 'Longitude', 'Latitude', 'Address',\n",
       "       'City', 'State', 'ZipCode'],\n",
       "      dtype='object')"
      ]
     },
     "execution_count": 35,
     "metadata": {},
     "output_type": "execute_result"
    }
   ],
   "source": [
    "data.columns"
   ]
  },
  {
   "cell_type": "code",
   "execution_count": 36,
   "metadata": {
    "Collapsed": "false"
   },
   "outputs": [],
   "source": [
    "data.to_pickle('Seattle.pkl')"
   ]
  },
  {
   "cell_type": "code",
   "execution_count": null,
   "metadata": {
    "Collapsed": "false"
   },
   "outputs": [],
   "source": []
  }
 ],
 "metadata": {
  "kernelspec": {
   "display_name": "Python 3",
   "language": "python",
   "name": "python3"
  },
  "language_info": {
   "codemirror_mode": {
    "name": "ipython",
    "version": 3
   },
   "file_extension": ".py",
   "mimetype": "text/x-python",
   "name": "python",
   "nbconvert_exporter": "python",
   "pygments_lexer": "ipython3",
   "version": "3.7.3"
  }
 },
 "nbformat": 4,
 "nbformat_minor": 4
}
